{
 "cells": [
  {
   "cell_type": "code",
   "execution_count": 1,
   "metadata": {},
   "outputs": [],
   "source": [
    "import pandas as pd\n",
    "import matplotlib.pyplot as plt\n",
    "import seaborn as sns\n",
    "from datetime import datetime"
   ]
  },
  {
   "cell_type": "code",
   "execution_count": 2,
   "metadata": {},
   "outputs": [],
   "source": [
    "df = pd.read_excel('superstore_sales.xlsx')"
   ]
  },
  {
   "cell_type": "code",
   "execution_count": 3,
   "metadata": {},
   "outputs": [
    {
     "data": {
      "text/html": [
       "<div>\n",
       "<style scoped>\n",
       "    .dataframe tbody tr th:only-of-type {\n",
       "        vertical-align: middle;\n",
       "    }\n",
       "\n",
       "    .dataframe tbody tr th {\n",
       "        vertical-align: top;\n",
       "    }\n",
       "\n",
       "    .dataframe thead th {\n",
       "        text-align: right;\n",
       "    }\n",
       "</style>\n",
       "<table border=\"1\" class=\"dataframe\">\n",
       "  <thead>\n",
       "    <tr style=\"text-align: right;\">\n",
       "      <th></th>\n",
       "      <th>order_id</th>\n",
       "      <th>order_date</th>\n",
       "      <th>ship_date</th>\n",
       "      <th>ship_mode</th>\n",
       "      <th>customer_name</th>\n",
       "      <th>segment</th>\n",
       "      <th>state</th>\n",
       "      <th>country</th>\n",
       "      <th>market</th>\n",
       "      <th>region</th>\n",
       "      <th>...</th>\n",
       "      <th>category</th>\n",
       "      <th>sub_category</th>\n",
       "      <th>product_name</th>\n",
       "      <th>sales</th>\n",
       "      <th>quantity</th>\n",
       "      <th>discount</th>\n",
       "      <th>profit</th>\n",
       "      <th>shipping_cost</th>\n",
       "      <th>order_priority</th>\n",
       "      <th>year</th>\n",
       "    </tr>\n",
       "  </thead>\n",
       "  <tbody>\n",
       "    <tr>\n",
       "      <th>0</th>\n",
       "      <td>AG-2011-2040</td>\n",
       "      <td>2011-01-01</td>\n",
       "      <td>2011-01-06</td>\n",
       "      <td>Standard Class</td>\n",
       "      <td>Toby Braunhardt</td>\n",
       "      <td>Consumer</td>\n",
       "      <td>Constantine</td>\n",
       "      <td>Algeria</td>\n",
       "      <td>Africa</td>\n",
       "      <td>Africa</td>\n",
       "      <td>...</td>\n",
       "      <td>Office Supplies</td>\n",
       "      <td>Storage</td>\n",
       "      <td>Tenex Lockers, Blue</td>\n",
       "      <td>408.300</td>\n",
       "      <td>2</td>\n",
       "      <td>0.0</td>\n",
       "      <td>106.140</td>\n",
       "      <td>35.46</td>\n",
       "      <td>Medium</td>\n",
       "      <td>2011</td>\n",
       "    </tr>\n",
       "    <tr>\n",
       "      <th>1</th>\n",
       "      <td>IN-2011-47883</td>\n",
       "      <td>2011-01-01</td>\n",
       "      <td>2011-01-08</td>\n",
       "      <td>Standard Class</td>\n",
       "      <td>Joseph Holt</td>\n",
       "      <td>Consumer</td>\n",
       "      <td>New South Wales</td>\n",
       "      <td>Australia</td>\n",
       "      <td>APAC</td>\n",
       "      <td>Oceania</td>\n",
       "      <td>...</td>\n",
       "      <td>Office Supplies</td>\n",
       "      <td>Supplies</td>\n",
       "      <td>Acme Trimmer, High Speed</td>\n",
       "      <td>120.366</td>\n",
       "      <td>3</td>\n",
       "      <td>0.1</td>\n",
       "      <td>36.036</td>\n",
       "      <td>9.72</td>\n",
       "      <td>Medium</td>\n",
       "      <td>2011</td>\n",
       "    </tr>\n",
       "    <tr>\n",
       "      <th>2</th>\n",
       "      <td>HU-2011-1220</td>\n",
       "      <td>2011-01-01</td>\n",
       "      <td>2011-01-05</td>\n",
       "      <td>Second Class</td>\n",
       "      <td>Annie Thurman</td>\n",
       "      <td>Consumer</td>\n",
       "      <td>Budapest</td>\n",
       "      <td>Hungary</td>\n",
       "      <td>EMEA</td>\n",
       "      <td>EMEA</td>\n",
       "      <td>...</td>\n",
       "      <td>Office Supplies</td>\n",
       "      <td>Storage</td>\n",
       "      <td>Tenex Box, Single Width</td>\n",
       "      <td>66.120</td>\n",
       "      <td>4</td>\n",
       "      <td>0.0</td>\n",
       "      <td>29.640</td>\n",
       "      <td>8.17</td>\n",
       "      <td>High</td>\n",
       "      <td>2011</td>\n",
       "    </tr>\n",
       "    <tr>\n",
       "      <th>3</th>\n",
       "      <td>IT-2011-3647632</td>\n",
       "      <td>2011-01-01</td>\n",
       "      <td>2011-01-05</td>\n",
       "      <td>Second Class</td>\n",
       "      <td>Eugene Moren</td>\n",
       "      <td>Home Office</td>\n",
       "      <td>Stockholm</td>\n",
       "      <td>Sweden</td>\n",
       "      <td>EU</td>\n",
       "      <td>North</td>\n",
       "      <td>...</td>\n",
       "      <td>Office Supplies</td>\n",
       "      <td>Paper</td>\n",
       "      <td>Enermax Note Cards, Premium</td>\n",
       "      <td>44.865</td>\n",
       "      <td>3</td>\n",
       "      <td>0.5</td>\n",
       "      <td>-26.055</td>\n",
       "      <td>4.82</td>\n",
       "      <td>High</td>\n",
       "      <td>2011</td>\n",
       "    </tr>\n",
       "    <tr>\n",
       "      <th>4</th>\n",
       "      <td>IN-2011-47883</td>\n",
       "      <td>2011-01-01</td>\n",
       "      <td>2011-01-08</td>\n",
       "      <td>Standard Class</td>\n",
       "      <td>Joseph Holt</td>\n",
       "      <td>Consumer</td>\n",
       "      <td>New South Wales</td>\n",
       "      <td>Australia</td>\n",
       "      <td>APAC</td>\n",
       "      <td>Oceania</td>\n",
       "      <td>...</td>\n",
       "      <td>Furniture</td>\n",
       "      <td>Furnishings</td>\n",
       "      <td>Eldon Light Bulb, Duo Pack</td>\n",
       "      <td>113.670</td>\n",
       "      <td>5</td>\n",
       "      <td>0.1</td>\n",
       "      <td>37.770</td>\n",
       "      <td>4.70</td>\n",
       "      <td>Medium</td>\n",
       "      <td>2011</td>\n",
       "    </tr>\n",
       "  </tbody>\n",
       "</table>\n",
       "<p>5 rows × 21 columns</p>\n",
       "</div>"
      ],
      "text/plain": [
       "          order_id order_date  ship_date       ship_mode    customer_name  \\\n",
       "0     AG-2011-2040 2011-01-01 2011-01-06  Standard Class  Toby Braunhardt   \n",
       "1    IN-2011-47883 2011-01-01 2011-01-08  Standard Class      Joseph Holt   \n",
       "2     HU-2011-1220 2011-01-01 2011-01-05    Second Class    Annie Thurman   \n",
       "3  IT-2011-3647632 2011-01-01 2011-01-05    Second Class     Eugene Moren   \n",
       "4    IN-2011-47883 2011-01-01 2011-01-08  Standard Class      Joseph Holt   \n",
       "\n",
       "       segment            state    country  market   region  ...  \\\n",
       "0     Consumer      Constantine    Algeria  Africa   Africa  ...   \n",
       "1     Consumer  New South Wales  Australia    APAC  Oceania  ...   \n",
       "2     Consumer         Budapest    Hungary    EMEA     EMEA  ...   \n",
       "3  Home Office        Stockholm     Sweden      EU    North  ...   \n",
       "4     Consumer  New South Wales  Australia    APAC  Oceania  ...   \n",
       "\n",
       "          category sub_category                 product_name    sales  \\\n",
       "0  Office Supplies      Storage          Tenex Lockers, Blue  408.300   \n",
       "1  Office Supplies     Supplies     Acme Trimmer, High Speed  120.366   \n",
       "2  Office Supplies      Storage      Tenex Box, Single Width   66.120   \n",
       "3  Office Supplies        Paper  Enermax Note Cards, Premium   44.865   \n",
       "4        Furniture  Furnishings   Eldon Light Bulb, Duo Pack  113.670   \n",
       "\n",
       "   quantity  discount   profit  shipping_cost  order_priority  year  \n",
       "0         2       0.0  106.140          35.46          Medium  2011  \n",
       "1         3       0.1   36.036           9.72          Medium  2011  \n",
       "2         4       0.0   29.640           8.17            High  2011  \n",
       "3         3       0.5  -26.055           4.82            High  2011  \n",
       "4         5       0.1   37.770           4.70          Medium  2011  \n",
       "\n",
       "[5 rows x 21 columns]"
      ]
     },
     "execution_count": 3,
     "metadata": {},
     "output_type": "execute_result"
    }
   ],
   "source": [
    "df = pd.read_excel('superstore_sales.xlsx')\n",
    "df.head() "
   ]
  },
  {
   "cell_type": "markdown",
   "metadata": {},
   "source": [
    "####  Get the number of rows and columns"
   ]
  },
  {
   "cell_type": "code",
   "execution_count": 9,
   "metadata": {},
   "outputs": [
    {
     "data": {
      "text/plain": [
       "(51290, 21)"
      ]
     },
     "execution_count": 9,
     "metadata": {},
     "output_type": "execute_result"
    }
   ],
   "source": [
    "df.shape"
   ]
  },
  {
   "cell_type": "markdown",
   "metadata": {},
   "source": [
    "#### Check the data types of the columns for the dataset "
   ]
  },
  {
   "cell_type": "code",
   "execution_count": 10,
   "metadata": {},
   "outputs": [
    {
     "name": "stdout",
     "output_type": "stream",
     "text": [
      "<class 'pandas.core.frame.DataFrame'>\n",
      "RangeIndex: 51290 entries, 0 to 51289\n",
      "Data columns (total 21 columns):\n",
      " #   Column          Non-Null Count  Dtype         \n",
      "---  ------          --------------  -----         \n",
      " 0   order_id        51290 non-null  object        \n",
      " 1   order_date      51290 non-null  datetime64[ns]\n",
      " 2   ship_date       51290 non-null  datetime64[ns]\n",
      " 3   ship_mode       51290 non-null  object        \n",
      " 4   customer_name   51290 non-null  object        \n",
      " 5   segment         51290 non-null  object        \n",
      " 6   state           51290 non-null  object        \n",
      " 7   country         51290 non-null  object        \n",
      " 8   market          51290 non-null  object        \n",
      " 9   region          51290 non-null  object        \n",
      " 10  product_id      51290 non-null  object        \n",
      " 11  category        51290 non-null  object        \n",
      " 12  sub_category    51290 non-null  object        \n",
      " 13  product_name    51290 non-null  object        \n",
      " 14  sales           51290 non-null  float64       \n",
      " 15  quantity        51290 non-null  int64         \n",
      " 16  discount        51290 non-null  float64       \n",
      " 17  profit          51290 non-null  float64       \n",
      " 18  shipping_cost   51290 non-null  float64       \n",
      " 19  order_priority  51290 non-null  object        \n",
      " 20  year            51290 non-null  int64         \n",
      "dtypes: datetime64[ns](2), float64(4), int64(2), object(13)\n",
      "memory usage: 8.2+ MB\n"
     ]
    }
   ],
   "source": [
    "df.info() "
   ]
  },
  {
   "cell_type": "markdown",
   "metadata": {},
   "source": [
    "#### Checking for the duplicate values"
   ]
  },
  {
   "cell_type": "code",
   "execution_count": 9,
   "metadata": {},
   "outputs": [
    {
     "data": {
      "text/plain": [
       "np.int64(0)"
      ]
     },
     "execution_count": 9,
     "metadata": {},
     "output_type": "execute_result"
    }
   ],
   "source": [
    "df.duplicated().sum() "
   ]
  },
  {
   "cell_type": "markdown",
   "metadata": {},
   "source": [
    "##### As we can see that here there is no duplicate values \n",
    " If we got some duplicate values then we will drop them"
   ]
  },
  {
   "cell_type": "markdown",
   "metadata": {},
   "source": [
    "#### Exploratory Data Analysis\n",
    "\n",
    "Exploratory Data Analysis (EDA) is the process of analyzing a dataset to summarize its main characteristics, often using visual methods. EDA helps understand the structure, patterns, and relationships within the data before applying more complex analyses or models.\n",
    "* Checking data types, shape, and summary statistics.\n",
    "* Identifying columns, their data types (numerical, categorical, date, etc.), and any data inconsistencies."
   ]
  },
  {
   "cell_type": "code",
   "execution_count": 10,
   "metadata": {},
   "outputs": [
    {
     "data": {
      "text/html": [
       "<div>\n",
       "<style scoped>\n",
       "    .dataframe tbody tr th:only-of-type {\n",
       "        vertical-align: middle;\n",
       "    }\n",
       "\n",
       "    .dataframe tbody tr th {\n",
       "        vertical-align: top;\n",
       "    }\n",
       "\n",
       "    .dataframe thead th {\n",
       "        text-align: right;\n",
       "    }\n",
       "</style>\n",
       "<table border=\"1\" class=\"dataframe\">\n",
       "  <thead>\n",
       "    <tr style=\"text-align: right;\">\n",
       "      <th></th>\n",
       "      <th>count</th>\n",
       "      <th>mean</th>\n",
       "      <th>min</th>\n",
       "      <th>25%</th>\n",
       "      <th>50%</th>\n",
       "      <th>75%</th>\n",
       "      <th>max</th>\n",
       "      <th>std</th>\n",
       "    </tr>\n",
       "  </thead>\n",
       "  <tbody>\n",
       "    <tr>\n",
       "      <th>order_date</th>\n",
       "      <td>51290</td>\n",
       "      <td>2013-05-11 21:26:49.155780864</td>\n",
       "      <td>2011-01-01 00:00:00</td>\n",
       "      <td>2012-06-19 00:00:00</td>\n",
       "      <td>2013-07-08 00:00:00</td>\n",
       "      <td>2014-05-22 00:00:00</td>\n",
       "      <td>2014-12-31 00:00:00</td>\n",
       "      <td>NaN</td>\n",
       "    </tr>\n",
       "    <tr>\n",
       "      <th>ship_date</th>\n",
       "      <td>51290</td>\n",
       "      <td>2013-05-15 20:42:42.745174528</td>\n",
       "      <td>2011-01-03 00:00:00</td>\n",
       "      <td>2012-06-23 00:00:00</td>\n",
       "      <td>2013-07-12 00:00:00</td>\n",
       "      <td>2014-05-26 00:00:00</td>\n",
       "      <td>2015-01-07 00:00:00</td>\n",
       "      <td>NaN</td>\n",
       "    </tr>\n",
       "    <tr>\n",
       "      <th>sales</th>\n",
       "      <td>51290.0</td>\n",
       "      <td>246.490581</td>\n",
       "      <td>0.444</td>\n",
       "      <td>30.758625</td>\n",
       "      <td>85.053</td>\n",
       "      <td>251.0532</td>\n",
       "      <td>22638.48</td>\n",
       "      <td>487.565361</td>\n",
       "    </tr>\n",
       "    <tr>\n",
       "      <th>quantity</th>\n",
       "      <td>51290.0</td>\n",
       "      <td>3.476545</td>\n",
       "      <td>1.0</td>\n",
       "      <td>2.0</td>\n",
       "      <td>3.0</td>\n",
       "      <td>5.0</td>\n",
       "      <td>14.0</td>\n",
       "      <td>2.278766</td>\n",
       "    </tr>\n",
       "    <tr>\n",
       "      <th>discount</th>\n",
       "      <td>51290.0</td>\n",
       "      <td>0.142908</td>\n",
       "      <td>0.0</td>\n",
       "      <td>0.0</td>\n",
       "      <td>0.0</td>\n",
       "      <td>0.2</td>\n",
       "      <td>0.85</td>\n",
       "      <td>0.21228</td>\n",
       "    </tr>\n",
       "    <tr>\n",
       "      <th>profit</th>\n",
       "      <td>51290.0</td>\n",
       "      <td>28.64174</td>\n",
       "      <td>-6599.978</td>\n",
       "      <td>0.0</td>\n",
       "      <td>9.24</td>\n",
       "      <td>36.81</td>\n",
       "      <td>8399.976</td>\n",
       "      <td>174.424113</td>\n",
       "    </tr>\n",
       "    <tr>\n",
       "      <th>shipping_cost</th>\n",
       "      <td>51290.0</td>\n",
       "      <td>26.375818</td>\n",
       "      <td>0.002</td>\n",
       "      <td>2.61</td>\n",
       "      <td>7.79</td>\n",
       "      <td>24.45</td>\n",
       "      <td>933.57</td>\n",
       "      <td>57.29681</td>\n",
       "    </tr>\n",
       "    <tr>\n",
       "      <th>year</th>\n",
       "      <td>51290.0</td>\n",
       "      <td>2012.777208</td>\n",
       "      <td>2011.0</td>\n",
       "      <td>2012.0</td>\n",
       "      <td>2013.0</td>\n",
       "      <td>2014.0</td>\n",
       "      <td>2014.0</td>\n",
       "      <td>1.098931</td>\n",
       "    </tr>\n",
       "  </tbody>\n",
       "</table>\n",
       "</div>"
      ],
      "text/plain": [
       "                 count                           mean                  min  \\\n",
       "order_date       51290  2013-05-11 21:26:49.155780864  2011-01-01 00:00:00   \n",
       "ship_date        51290  2013-05-15 20:42:42.745174528  2011-01-03 00:00:00   \n",
       "sales          51290.0                     246.490581                0.444   \n",
       "quantity       51290.0                       3.476545                  1.0   \n",
       "discount       51290.0                       0.142908                  0.0   \n",
       "profit         51290.0                       28.64174            -6599.978   \n",
       "shipping_cost  51290.0                      26.375818                0.002   \n",
       "year           51290.0                    2012.777208               2011.0   \n",
       "\n",
       "                               25%                  50%                  75%  \\\n",
       "order_date     2012-06-19 00:00:00  2013-07-08 00:00:00  2014-05-22 00:00:00   \n",
       "ship_date      2012-06-23 00:00:00  2013-07-12 00:00:00  2014-05-26 00:00:00   \n",
       "sales                    30.758625               85.053             251.0532   \n",
       "quantity                       2.0                  3.0                  5.0   \n",
       "discount                       0.0                  0.0                  0.2   \n",
       "profit                         0.0                 9.24                36.81   \n",
       "shipping_cost                 2.61                 7.79                24.45   \n",
       "year                        2012.0               2013.0               2014.0   \n",
       "\n",
       "                               max         std  \n",
       "order_date     2014-12-31 00:00:00         NaN  \n",
       "ship_date      2015-01-07 00:00:00         NaN  \n",
       "sales                     22638.48  487.565361  \n",
       "quantity                      14.0    2.278766  \n",
       "discount                      0.85     0.21228  \n",
       "profit                    8399.976  174.424113  \n",
       "shipping_cost               933.57    57.29681  \n",
       "year                        2014.0    1.098931  "
      ]
     },
     "execution_count": 10,
     "metadata": {},
     "output_type": "execute_result"
    }
   ],
   "source": [
    "df.describe().T "
   ]
  },
  {
   "cell_type": "markdown",
   "metadata": {},
   "source": [
    "* We can see that average value of each sale is 246.49 RS\n",
    "* Atleast 50 percent of the products do not have discount\n",
    "* On 25 percent products we are not making any kind of profit\n",
    "* Average shipping cost per product is 26.37 RS"
   ]
  },
  {
   "cell_type": "markdown",
   "metadata": {},
   "source": [
    "### Univariate Data Analysis"
   ]
  },
  {
   "cell_type": "markdown",
   "metadata": {},
   "source": [
    "#### Analysis For The Sales"
   ]
  },
  {
   "cell_type": "code",
   "execution_count": 11,
   "metadata": {},
   "outputs": [
    {
     "name": "stdout",
     "output_type": "stream",
     "text": [
      "Analysis for sales\n",
      "Mean: 246.49058120257362\n",
      "Median: 85.053\n",
      "Mode: 12.96\n",
      "Standard Deviation: 487.5653605385643\n",
      "Skewness: 8.13808002122054\n",
      "Kurtosis: 176.7311999336455\n",
      "--------------------------------------------------\n"
     ]
    },
    {
     "data": {
      "image/png": "[encoded data removed]",
      "text/plain": [
       "<Figure size 1000x500 with 1 Axes>"
      ]
     },
     "metadata": {},
     "output_type": "display_data"
    },
    {
     "data": {
      "image/png": "[encoded data removed]",
      "text/plain": [
       "<Figure size 1000x300 with 1 Axes>"
      ]
     },
     "metadata": {},
     "output_type": "display_data"
    }
   ],
   "source": [
    "# Univariate Analysis: Sales\n",
    "column = 'sales'\n",
    "\n",
    "# Descriptive Statistics\n",
    "print(f\"Analysis for {column}\")\n",
    "print(f\"Mean: {df[column].mean()}\")\n",
    "print(f\"Median: {df[column].median()}\")\n",
    "print(f\"Mode: {df[column].mode()[0]}\")\n",
    "print(f\"Standard Deviation: {df[column].std()}\")\n",
    "print(f\"Skewness: {df[column].skew()}\")\n",
    "print(f\"Kurtosis: {df[column].kurt()}\")\n",
    "print(\"-\" * 50)\n",
    "\n",
    "# Histogram\n",
    "plt.figure(figsize=(10, 5))\n",
    "sns.histplot(df[column], kde=True, bins=30, color=\"blue\")\n",
    "plt.title(f\"Histogram of {column}\")\n",
    "plt.xlabel(column)\n",
    "plt.ylabel(\"Frequency\")\n",
    "plt.show()\n",
    "\n",
    "# Boxplot\n",
    "plt.figure(figsize=(10, 3))\n",
    "sns.boxplot(x=df[column], color=\"green\")\n",
    "plt.title(f\"Boxplot of {column}\")\n",
    "plt.show()\n"
   ]
  },
  {
   "cell_type": "markdown",
   "metadata": {},
   "source": [
    "* Distribution Shape:\n",
    "\n",
    "The histogram shows a highly right-skewed distribution. Most of the sales values are concentrated near zero, with a long tail extending to the right. This indicates that while most sales transactions are relatively low, there are a few high-value transactions.\n",
    "\n",
    "* Implications for Analysis:\n",
    "\n",
    "The majority of sales are clustered at low values, which suggests that most transactions are low-value purchases.\n",
    "The presence of high-value outliers may indicate occasional large transactions, which could be important for business strategy (e.g., focusing on high-value customers)."
   ]
  },
  {
   "cell_type": "markdown",
   "metadata": {},
   "source": [
    "#### Analysis For The Profit"
   ]
  },
  {
   "cell_type": "code",
   "execution_count": 3,
   "metadata": {},
   "outputs": [
    {
     "name": "stdout",
     "output_type": "stream",
     "text": [
      "Analysis for profit\n",
      "Mean: 28.64173954533047\n",
      "Median: 9.24\n",
      "Mode: 0.0\n",
      "--------------------------------------------------\n"
     ]
    },
    {
     "data": {
      "image/png": "[encoded data removed]",
      "text/plain": [
       "<Figure size 1000x500 with 1 Axes>"
      ]
     },
     "metadata": {},
     "output_type": "display_data"
    },
    {
     "data": {
      "image/png": "[encoded data removed]",
      "text/plain": [
       "<Figure size 1000x300 with 1 Axes>"
      ]
     },
     "metadata": {},
     "output_type": "display_data"
    }
   ],
   "source": [
    "# Univariate Analysis: Profit\n",
    "column = 'profit'\n",
    "\n",
    "# Descriptive Statistics\n",
    "print(f\"Analysis for {column}\")\n",
    "print(f\"Mean: {df[column].mean()}\")\n",
    "print(f\"Median: {df[column].median()}\")\n",
    "print(f\"Mode: {df[column].mode()[0]}\")\n",
    "print(\"-\" * 50)\n",
    "\n",
    "# Histogram\n",
    "plt.figure(figsize=(10, 5))\n",
    "sns.histplot(df[column], kde=True, bins=30, color=\"purple\")\n",
    "plt.title(f\"Histogram of {column}\")\n",
    "plt.xlabel(column)\n",
    "plt.ylabel(\"Frequency\")\n",
    "plt.show()\n",
    "\n",
    "# Boxplot\n",
    "plt.figure(figsize=(10, 3))\n",
    "sns.boxplot(x=df[column], color=\"orange\")\n",
    "plt.title(f\"Boxplot of {column}\")\n",
    "plt.show()\n"
   ]
  },
  {
   "cell_type": "markdown",
   "metadata": {},
   "source": [
    "* Distribution Shape:\n",
    "\n",
    "Similar to the sales histogram, the profit data is highly concentrated around zero, with a narrow peak and a long tail in both directions. This indicates that most of the transactions have relatively low profit margins, with only a few instances of high positive or negative profits (losses)."
   ]
  },
  {
   "cell_type": "markdown",
   "metadata": {},
   "source": [
    "#### Analysis for the region"
   ]
  },
  {
   "cell_type": "code",
   "execution_count": 13,
   "metadata": {},
   "outputs": [
    {
     "name": "stdout",
     "output_type": "stream",
     "text": [
      "Frequency Count for region\n",
      "region\n",
      "Central           11117\n",
      "South              6645\n",
      "EMEA               5029\n",
      "North              4785\n",
      "Africa             4587\n",
      "Oceania            3487\n",
      "West               3203\n",
      "Southeast Asia     3129\n",
      "East               2848\n",
      "North Asia         2338\n",
      "Central Asia       2048\n",
      "Caribbean          1690\n",
      "Canada              384\n",
      "Name: count, dtype: int64\n",
      "--------------------------------------------------\n"
     ]
    },
    {
     "name": "stderr",
     "output_type": "stream",
     "text": [
      "C:\\Users\\laksh\\AppData\\Local\\Temp\\ipykernel_10696\\2408412875.py:11: FutureWarning: \n",
      "\n",
      "Passing `palette` without assigning `hue` is deprecated and will be removed in v0.14.0. Assign the `y` variable to `hue` and set `legend=False` for the same effect.\n",
      "\n",
      "  sns.countplot(y=df[column], order=df[column].value_counts().index, palette=\"coolwarm\")\n"
     ]
    },
    {
     "data": {
      "image/png": "[encoded data removed]",
      "text/plain": [
       "<Figure size 1000x500 with 1 Axes>"
      ]
     },
     "metadata": {},
     "output_type": "display_data"
    }
   ],
   "source": [
    "# Univariate Analysis: Region\n",
    "column = 'region'\n",
    "\n",
    "# Frequency Count\n",
    "print(f\"Frequency Count for {column}\")\n",
    "print(df[column].value_counts())\n",
    "print(\"-\" * 50)\n",
    "\n",
    "# Bar Plot\n",
    "plt.figure(figsize=(10, 5))\n",
    "sns.countplot(y=df[column], order=df[column].value_counts().index, palette=\"coolwarm\")\n",
    "plt.title(f\"Bar Plot of {column}\")\n",
    "plt.xlabel(\"Count\")\n",
    "plt.ylabel(column)\n",
    "plt.show()\n"
   ]
  },
  {
   "cell_type": "markdown",
   "metadata": {},
   "source": [
    "* Top Regions by Count:\n",
    "\n",
    "The Central region has the highest count, followed by the South and EMEA regions. This suggests that a significant portion of the transactions or entries in the dataset are from these regions.\n",
    "These high counts may indicate that the business or dataset has more operations or customer interactions in these regions compared to others.\n",
    "* Least Represented Regions:\n",
    "\n",
    "Canada and the Caribbean regions have the lowest counts. This might suggest limited business activity or customer base in these regions, which could either be a strategic choice or an area of potential growth."
   ]
  },
  {
   "cell_type": "markdown",
   "metadata": {},
   "source": [
    "<H4>  Which are the most selling products?\n"
   ]
  },
  {
   "cell_type": "code",
   "execution_count": 5,
   "metadata": {},
   "outputs": [
    {
     "data": {
      "text/html": [
       "<div>\n",
       "<style scoped>\n",
       "    .dataframe tbody tr th:only-of-type {\n",
       "        vertical-align: middle;\n",
       "    }\n",
       "\n",
       "    .dataframe tbody tr th {\n",
       "        vertical-align: top;\n",
       "    }\n",
       "\n",
       "    .dataframe thead th {\n",
       "        text-align: right;\n",
       "    }\n",
       "</style>\n",
       "<table border=\"1\" class=\"dataframe\">\n",
       "  <thead>\n",
       "    <tr style=\"text-align: right;\">\n",
       "      <th></th>\n",
       "      <th>quantity</th>\n",
       "    </tr>\n",
       "    <tr>\n",
       "      <th>product_name</th>\n",
       "      <th></th>\n",
       "    </tr>\n",
       "  </thead>\n",
       "  <tbody>\n",
       "    <tr>\n",
       "      <th>Staples</th>\n",
       "      <td>876</td>\n",
       "    </tr>\n",
       "    <tr>\n",
       "      <th>Cardinal Index Tab, Clear</th>\n",
       "      <td>337</td>\n",
       "    </tr>\n",
       "    <tr>\n",
       "      <th>Eldon File Cart, Single Width</th>\n",
       "      <td>321</td>\n",
       "    </tr>\n",
       "    <tr>\n",
       "      <th>Rogers File Cart, Single Width</th>\n",
       "      <td>262</td>\n",
       "    </tr>\n",
       "    <tr>\n",
       "      <th>Sanford Pencil Sharpener, Water Color</th>\n",
       "      <td>259</td>\n",
       "    </tr>\n",
       "    <tr>\n",
       "      <th>Stockwell Paper Clips, Assorted Sizes</th>\n",
       "      <td>253</td>\n",
       "    </tr>\n",
       "    <tr>\n",
       "      <th>Avery Index Tab, Clear</th>\n",
       "      <td>252</td>\n",
       "    </tr>\n",
       "    <tr>\n",
       "      <th>Ibico Index Tab, Clear</th>\n",
       "      <td>251</td>\n",
       "    </tr>\n",
       "    <tr>\n",
       "      <th>Smead File Cart, Single Width</th>\n",
       "      <td>250</td>\n",
       "    </tr>\n",
       "    <tr>\n",
       "      <th>Stanley Pencil Sharpener, Water Color</th>\n",
       "      <td>242</td>\n",
       "    </tr>\n",
       "  </tbody>\n",
       "</table>\n",
       "</div>"
      ],
      "text/plain": [
       "                                       quantity\n",
       "product_name                                   \n",
       "Staples                                     876\n",
       "Cardinal Index Tab, Clear                   337\n",
       "Eldon File Cart, Single Width               321\n",
       "Rogers File Cart, Single Width              262\n",
       "Sanford Pencil Sharpener, Water Color       259\n",
       "Stockwell Paper Clips, Assorted Sizes       253\n",
       "Avery Index Tab, Clear                      252\n",
       "Ibico Index Tab, Clear                      251\n",
       "Smead File Cart, Single Width               250\n",
       "Stanley Pencil Sharpener, Water Color       242"
      ]
     },
     "execution_count": 5,
     "metadata": {},
     "output_type": "execute_result"
    }
   ],
   "source": [
    "boughts = df.groupby('product_name').agg({'quantity': 'sum'}).sort_values('quantity',ascending=False)[:10]\n",
    "boughts"
   ]
  },
  {
   "cell_type": "code",
   "execution_count": 6,
   "metadata": {},
   "outputs": [
    {
     "data": {
      "text/plain": [
       "(array([0, 1, 2, 3, 4, 5, 6, 7, 8, 9]),\n",
       " <a list of 10 Text major ticklabel objects>)"
      ]
     },
     "execution_count": 6,
     "metadata": {},
     "output_type": "execute_result"
    },
    {
     "data": {
      "image/png": "[encoded data removed]",
      "text/plain": [
       "<Figure size 432x288 with 1 Axes>"
      ]
     },
     "metadata": {
      "needs_background": "light"
     },
     "output_type": "display_data"
    }
   ],
   "source": [
    "sns.barplot(x='product_name',y='quantity',data=boughts.reset_index())\n",
    "plt.xticks(rotation = 'vertical')"
   ]
  },
  {
   "cell_type": "markdown",
   "metadata": {},
   "source": [
    " <h4>  - Which are the Top 10 products by sales?"
   ]
  },
  {
   "cell_type": "code",
   "execution_count": 7,
   "metadata": {},
   "outputs": [
    {
     "data": {
      "text/html": [
       "<div>\n",
       "<style scoped>\n",
       "    .dataframe tbody tr th:only-of-type {\n",
       "        vertical-align: middle;\n",
       "    }\n",
       "\n",
       "    .dataframe tbody tr th {\n",
       "        vertical-align: top;\n",
       "    }\n",
       "\n",
       "    .dataframe thead th {\n",
       "        text-align: right;\n",
       "    }\n",
       "</style>\n",
       "<table border=\"1\" class=\"dataframe\">\n",
       "  <thead>\n",
       "    <tr style=\"text-align: right;\">\n",
       "      <th></th>\n",
       "      <th>sales</th>\n",
       "    </tr>\n",
       "    <tr>\n",
       "      <th>product_name</th>\n",
       "      <th></th>\n",
       "    </tr>\n",
       "  </thead>\n",
       "  <tbody>\n",
       "    <tr>\n",
       "      <th>Apple Smart Phone, Full Size</th>\n",
       "      <td>86935.7786</td>\n",
       "    </tr>\n",
       "    <tr>\n",
       "      <th>Cisco Smart Phone, Full Size</th>\n",
       "      <td>76441.5306</td>\n",
       "    </tr>\n",
       "    <tr>\n",
       "      <th>Motorola Smart Phone, Full Size</th>\n",
       "      <td>73156.3030</td>\n",
       "    </tr>\n",
       "    <tr>\n",
       "      <th>Nokia Smart Phone, Full Size</th>\n",
       "      <td>71904.5555</td>\n",
       "    </tr>\n",
       "    <tr>\n",
       "      <th>Canon imageCLASS 2200 Advanced Copier</th>\n",
       "      <td>61599.8240</td>\n",
       "    </tr>\n",
       "    <tr>\n",
       "      <th>Hon Executive Leather Armchair, Adjustable</th>\n",
       "      <td>58193.4841</td>\n",
       "    </tr>\n",
       "    <tr>\n",
       "      <th>Office Star Executive Leather Armchair, Adjustable</th>\n",
       "      <td>50661.6840</td>\n",
       "    </tr>\n",
       "    <tr>\n",
       "      <th>Harbour Creations Executive Leather Armchair, Adjustable</th>\n",
       "      <td>50121.5160</td>\n",
       "    </tr>\n",
       "    <tr>\n",
       "      <th>Samsung Smart Phone, Cordless</th>\n",
       "      <td>48653.4600</td>\n",
       "    </tr>\n",
       "    <tr>\n",
       "      <th>Nokia Smart Phone, with Caller ID</th>\n",
       "      <td>47877.7857</td>\n",
       "    </tr>\n",
       "  </tbody>\n",
       "</table>\n",
       "</div>"
      ],
      "text/plain": [
       "                                                         sales\n",
       "product_name                                                  \n",
       "Apple Smart Phone, Full Size                        86935.7786\n",
       "Cisco Smart Phone, Full Size                        76441.5306\n",
       "Motorola Smart Phone, Full Size                     73156.3030\n",
       "Nokia Smart Phone, Full Size                        71904.5555\n",
       "Canon imageCLASS 2200 Advanced Copier               61599.8240\n",
       "Hon Executive Leather Armchair, Adjustable          58193.4841\n",
       "Office Star Executive Leather Armchair, Adjustable  50661.6840\n",
       "Harbour Creations Executive Leather Armchair, A...  50121.5160\n",
       "Samsung Smart Phone, Cordless                       48653.4600\n",
       "Nokia Smart Phone, with Caller ID                   47877.7857"
      ]
     },
     "execution_count": 7,
     "metadata": {},
     "output_type": "execute_result"
    }
   ],
   "source": [
    "productSales = pd.DataFrame(df.groupby('product_name').sum()['sales'])\n",
    "productSales.sort_values(by=['sales'], inplace=True, ascending=False)\n",
    "productSales.head(10)"
   ]
  },
  {
   "cell_type": "markdown",
   "metadata": {},
   "source": [
    "<h4> Which are the most profitable products?\n"
   ]
  },
  {
   "cell_type": "code",
   "execution_count": 8,
   "metadata": {},
   "outputs": [
    {
     "data": {
      "text/html": [
       "<div>\n",
       "<style scoped>\n",
       "    .dataframe tbody tr th:only-of-type {\n",
       "        vertical-align: middle;\n",
       "    }\n",
       "\n",
       "    .dataframe tbody tr th {\n",
       "        vertical-align: top;\n",
       "    }\n",
       "\n",
       "    .dataframe thead th {\n",
       "        text-align: right;\n",
       "    }\n",
       "</style>\n",
       "<table border=\"1\" class=\"dataframe\">\n",
       "  <thead>\n",
       "    <tr style=\"text-align: right;\">\n",
       "      <th></th>\n",
       "      <th>profit</th>\n",
       "    </tr>\n",
       "    <tr>\n",
       "      <th>product_name</th>\n",
       "      <th></th>\n",
       "    </tr>\n",
       "  </thead>\n",
       "  <tbody>\n",
       "    <tr>\n",
       "      <th>Canon imageCLASS 2200 Advanced Copier</th>\n",
       "      <td>25199.9280</td>\n",
       "    </tr>\n",
       "    <tr>\n",
       "      <th>Cisco Smart Phone, Full Size</th>\n",
       "      <td>17238.5206</td>\n",
       "    </tr>\n",
       "    <tr>\n",
       "      <th>Motorola Smart Phone, Full Size</th>\n",
       "      <td>17027.1130</td>\n",
       "    </tr>\n",
       "    <tr>\n",
       "      <th>Hoover Stove, Red</th>\n",
       "      <td>11807.9690</td>\n",
       "    </tr>\n",
       "    <tr>\n",
       "      <th>Sauder Classic Bookcase, Traditional</th>\n",
       "      <td>10672.0730</td>\n",
       "    </tr>\n",
       "    <tr>\n",
       "      <th>Harbour Creations Executive Leather Armchair, Adjustable</th>\n",
       "      <td>10427.3260</td>\n",
       "    </tr>\n",
       "    <tr>\n",
       "      <th>Nokia Smart Phone, Full Size</th>\n",
       "      <td>9938.1955</td>\n",
       "    </tr>\n",
       "    <tr>\n",
       "      <th>Cisco Smart Phone, with Caller ID</th>\n",
       "      <td>9786.6408</td>\n",
       "    </tr>\n",
       "    <tr>\n",
       "      <th>Nokia Smart Phone, with Caller ID</th>\n",
       "      <td>9465.3257</td>\n",
       "    </tr>\n",
       "    <tr>\n",
       "      <th>Belkin Router, USB</th>\n",
       "      <td>8955.0180</td>\n",
       "    </tr>\n",
       "  </tbody>\n",
       "</table>\n",
       "</div>"
      ],
      "text/plain": [
       "                                                        profit\n",
       "product_name                                                  \n",
       "Canon imageCLASS 2200 Advanced Copier               25199.9280\n",
       "Cisco Smart Phone, Full Size                        17238.5206\n",
       "Motorola Smart Phone, Full Size                     17027.1130\n",
       "Hoover Stove, Red                                   11807.9690\n",
       "Sauder Classic Bookcase, Traditional                10672.0730\n",
       "Harbour Creations Executive Leather Armchair, A...  10427.3260\n",
       "Nokia Smart Phone, Full Size                         9938.1955\n",
       "Cisco Smart Phone, with Caller ID                    9786.6408\n",
       "Nokia Smart Phone, with Caller ID                    9465.3257\n",
       "Belkin Router, USB                                   8955.0180"
      ]
     },
     "execution_count": 8,
     "metadata": {},
     "output_type": "execute_result"
    }
   ],
   "source": [
    "profitable_products = pd.DataFrame(df.groupby(['product_name']).sum()['profit'])\n",
    "profitable_products.sort_values(by=['profit'], inplace = True, ascending = False)\n",
    "profitable_products.head(10)"
   ]
  },
  {
   "cell_type": "code",
   "execution_count": 9,
   "metadata": {},
   "outputs": [
    {
     "data": {
      "text/plain": [
       "(array([0, 1, 2, 3, 4, 5, 6, 7, 8, 9]),\n",
       " <a list of 10 Text major ticklabel objects>)"
      ]
     },
     "execution_count": 9,
     "metadata": {},
     "output_type": "execute_result"
    },
    {
     "data": {
      "image/png": "[encoded data removed]",
      "text/plain": [
       "<Figure size 432x288 with 1 Axes>"
      ]
     },
     "metadata": {
      "needs_background": "light"
     },
     "output_type": "display_data"
    }
   ],
   "source": [
    "sns.barplot(x='product_name',y='profit',data=profitable_products.head(10).reset_index())\n",
    "plt.xticks(rotation = 'vertical')"
   ]
  },
  {
   "cell_type": "markdown",
   "metadata": {},
   "source": [
    "<h4> - Which are the most profitable category?"
   ]
  },
  {
   "cell_type": "code",
   "execution_count": 11,
   "metadata": {},
   "outputs": [
    {
     "data": {
      "text/html": [
       "<div>\n",
       "<style scoped>\n",
       "    .dataframe tbody tr th:only-of-type {\n",
       "        vertical-align: middle;\n",
       "    }\n",
       "\n",
       "    .dataframe tbody tr th {\n",
       "        vertical-align: top;\n",
       "    }\n",
       "\n",
       "    .dataframe thead th {\n",
       "        text-align: right;\n",
       "    }\n",
       "</style>\n",
       "<table border=\"1\" class=\"dataframe\">\n",
       "  <thead>\n",
       "    <tr style=\"text-align: right;\">\n",
       "      <th></th>\n",
       "      <th>profit</th>\n",
       "    </tr>\n",
       "    <tr>\n",
       "      <th>category</th>\n",
       "      <th></th>\n",
       "    </tr>\n",
       "  </thead>\n",
       "  <tbody>\n",
       "    <tr>\n",
       "      <th>Technology</th>\n",
       "      <td>663778.73318</td>\n",
       "    </tr>\n",
       "    <tr>\n",
       "      <th>Office Supplies</th>\n",
       "      <td>518473.83430</td>\n",
       "    </tr>\n",
       "    <tr>\n",
       "      <th>Furniture</th>\n",
       "      <td>286782.25380</td>\n",
       "    </tr>\n",
       "  </tbody>\n",
       "</table>\n",
       "</div>"
      ],
      "text/plain": [
       "                       profit\n",
       "category                     \n",
       "Technology       663778.73318\n",
       "Office Supplies  518473.83430\n",
       "Furniture        286782.25380"
      ]
     },
     "execution_count": 11,
     "metadata": {},
     "output_type": "execute_result"
    }
   ],
   "source": [
    "profitable_category = pd.DataFrame(df.groupby(['category']).sum()['profit'])\n",
    "profitable_category.sort_values(by=['profit'], inplace = True, ascending = False)\n",
    "profitable_category"
   ]
  },
  {
   "cell_type": "code",
   "execution_count": 6,
   "metadata": {},
   "outputs": [
    {
     "data": {
      "image/png": "[encoded data removed]",
      "text/plain": [
       "<Figure size 1700x500 with 1 Axes>"
      ]
     },
     "metadata": {},
     "output_type": "display_data"
    }
   ],
   "source": [
    "plt.figure(figsize=(17, 5))\n",
    "plt.bar(df['category'],df['sales'],color = 'b')\n",
    "plt.xticks(size=12)\n",
    "plt.show()"
   ]
  },
  {
   "cell_type": "markdown",
   "metadata": {},
   "source": [
    "<h4>  - Which customer segments are the most profitable ?"
   ]
  },
  {
   "cell_type": "code",
   "execution_count": 15,
   "metadata": {},
   "outputs": [
    {
     "data": {
      "text/html": [
       "<div>\n",
       "<style scoped>\n",
       "    .dataframe tbody tr th:only-of-type {\n",
       "        vertical-align: middle;\n",
       "    }\n",
       "\n",
       "    .dataframe tbody tr th {\n",
       "        vertical-align: top;\n",
       "    }\n",
       "\n",
       "    .dataframe thead th {\n",
       "        text-align: right;\n",
       "    }\n",
       "</style>\n",
       "<table border=\"1\" class=\"dataframe\">\n",
       "  <thead>\n",
       "    <tr style=\"text-align: right;\">\n",
       "      <th></th>\n",
       "      <th>profit</th>\n",
       "    </tr>\n",
       "    <tr>\n",
       "      <th>segment</th>\n",
       "      <th></th>\n",
       "    </tr>\n",
       "  </thead>\n",
       "  <tbody>\n",
       "    <tr>\n",
       "      <th>Consumer</th>\n",
       "      <td>749239.78206</td>\n",
       "    </tr>\n",
       "    <tr>\n",
       "      <th>Corporate</th>\n",
       "      <td>442785.85866</td>\n",
       "    </tr>\n",
       "    <tr>\n",
       "      <th>Home Office</th>\n",
       "      <td>277009.18056</td>\n",
       "    </tr>\n",
       "  </tbody>\n",
       "</table>\n",
       "</div>"
      ],
      "text/plain": [
       "                   profit\n",
       "segment                  \n",
       "Consumer     749239.78206\n",
       "Corporate    442785.85866\n",
       "Home Office  277009.18056"
      ]
     },
     "execution_count": 15,
     "metadata": {},
     "output_type": "execute_result"
    }
   ],
   "source": [
    "profitable_segment = pd.DataFrame(df.groupby(['segment']).sum()['profit'])\n",
    "profitable_segment.sort_values(by=['profit'], inplace = True, ascending = False)\n",
    "profitable_segment"
   ]
  },
  {
   "cell_type": "code",
   "execution_count": 16,
   "metadata": {},
   "outputs": [
    {
     "data": {
      "text/plain": [
       "(array([0, 1, 2]), <a list of 3 Text major ticklabel objects>)"
      ]
     },
     "execution_count": 16,
     "metadata": {},
     "output_type": "execute_result"
    },
    {
     "data": {
      "image/png": "[encoded data removed]",
      "text/plain": [
       "<Figure size 432x288 with 1 Axes>"
      ]
     },
     "metadata": {
      "needs_background": "light"
     },
     "output_type": "display_data"
    }
   ],
   "source": [
    "sns.barplot(x='segment',y='profit',data=profitable_segment.reset_index())\n",
    "plt.xticks(rotation = 'vertical')"
   ]
  },
  {
   "cell_type": "markdown",
   "metadata": {},
   "source": [
    "<h4>  What shipping modes sold the most products?"
   ]
  },
  {
   "cell_type": "code",
   "execution_count": 7,
   "metadata": {},
   "outputs": [
    {
     "data": {
      "image/png": "[encoded data removed]",
      "text/plain": [
       "<Figure size 1400x600 with 1 Axes>"
      ]
     },
     "metadata": {},
     "output_type": "display_data"
    }
   ],
   "source": [
    "plt.figure(figsize=(14, 6))\n",
    "plt.bar(df['ship_mode'],df['sales'],color = 'b')\n",
    "plt.xticks(rotation='vertical', size=12)\n",
    "plt.show()"
   ]
  },
  {
   "cell_type": "markdown",
   "metadata": {},
   "source": [
    "<h4>  What market sold the most products?"
   ]
  },
  {
   "cell_type": "code",
   "execution_count": 19,
   "metadata": {},
   "outputs": [
    {
     "data": {
      "text/plain": [
       "<matplotlib.axes._subplots.AxesSubplot at 0x7fb0bc618640>"
      ]
     },
     "execution_count": 19,
     "metadata": {},
     "output_type": "execute_result"
    },
    {
     "data": {
      "image/png": "[encoded data removed]",
      "text/plain": [
       "<Figure size 432x288 with 1 Axes>"
      ]
     },
     "metadata": {},
     "output_type": "display_data"
    }
   ],
   "source": [
    "sns.set_style('whitegrid')\n",
    "sns.countplot(x='market',data=df, palette='rainbow')"
   ]
  },
  {
   "cell_type": "markdown",
   "metadata": {},
   "source": [
    "<h4>  - Which are the Top 10 country by sales? "
   ]
  },
  {
   "cell_type": "code",
   "execution_count": 20,
   "metadata": {},
   "outputs": [
    {
     "data": {
      "text/html": [
       "<div>\n",
       "<style scoped>\n",
       "    .dataframe tbody tr th:only-of-type {\n",
       "        vertical-align: middle;\n",
       "    }\n",
       "\n",
       "    .dataframe tbody tr th {\n",
       "        vertical-align: top;\n",
       "    }\n",
       "\n",
       "    .dataframe thead th {\n",
       "        text-align: right;\n",
       "    }\n",
       "</style>\n",
       "<table border=\"1\" class=\"dataframe\">\n",
       "  <thead>\n",
       "    <tr style=\"text-align: right;\">\n",
       "      <th></th>\n",
       "      <th>sales</th>\n",
       "    </tr>\n",
       "    <tr>\n",
       "      <th>country</th>\n",
       "      <th></th>\n",
       "    </tr>\n",
       "  </thead>\n",
       "  <tbody>\n",
       "    <tr>\n",
       "      <th>United States</th>\n",
       "      <td>2.297201e+06</td>\n",
       "    </tr>\n",
       "    <tr>\n",
       "      <th>Australia</th>\n",
       "      <td>9.252359e+05</td>\n",
       "    </tr>\n",
       "    <tr>\n",
       "      <th>France</th>\n",
       "      <td>8.589311e+05</td>\n",
       "    </tr>\n",
       "    <tr>\n",
       "      <th>China</th>\n",
       "      <td>7.005620e+05</td>\n",
       "    </tr>\n",
       "    <tr>\n",
       "      <th>Germany</th>\n",
       "      <td>6.288400e+05</td>\n",
       "    </tr>\n",
       "    <tr>\n",
       "      <th>Mexico</th>\n",
       "      <td>6.225906e+05</td>\n",
       "    </tr>\n",
       "    <tr>\n",
       "      <th>India</th>\n",
       "      <td>5.896501e+05</td>\n",
       "    </tr>\n",
       "    <tr>\n",
       "      <th>United Kingdom</th>\n",
       "      <td>5.285763e+05</td>\n",
       "    </tr>\n",
       "    <tr>\n",
       "      <th>Indonesia</th>\n",
       "      <td>4.048875e+05</td>\n",
       "    </tr>\n",
       "    <tr>\n",
       "      <th>Brazil</th>\n",
       "      <td>3.611064e+05</td>\n",
       "    </tr>\n",
       "  </tbody>\n",
       "</table>\n",
       "</div>"
      ],
      "text/plain": [
       "                       sales\n",
       "country                     \n",
       "United States   2.297201e+06\n",
       "Australia       9.252359e+05\n",
       "France          8.589311e+05\n",
       "China           7.005620e+05\n",
       "Germany         6.288400e+05\n",
       "Mexico          6.225906e+05\n",
       "India           5.896501e+05\n",
       "United Kingdom  5.285763e+05\n",
       "Indonesia       4.048875e+05\n",
       "Brazil          3.611064e+05"
      ]
     },
     "execution_count": 20,
     "metadata": {},
     "output_type": "execute_result"
    }
   ],
   "source": [
    "countries = pd.DataFrame(df.groupby('country').sum()['sales'])\n",
    "countries.sort_values('sales',inplace=True, ascending=False)\n",
    "countries.head(10)"
   ]
  },
  {
   "cell_type": "markdown",
   "metadata": {},
   "source": [
    "<h4> - Create a pie chart with the 10 countries that have the most sales"
   ]
  },
  {
   "cell_type": "code",
   "execution_count": 21,
   "metadata": {},
   "outputs": [
    {
     "data": {
      "image/png": "[encoded data removed]",
      "text/plain": [
       "<Figure size 1008x504 with 1 Axes>"
      ]
     },
     "metadata": {},
     "output_type": "display_data"
    }
   ],
   "source": [
    "countries = countries.sort_values(by = 'sales',ascending = False)[1:11]\n",
    "countries['sales'].plot(kind='pie',autopct='%1.1f%%',figsize=(14,7))\n",
    "plt.title('10 Countries with most sales')\n",
    "plt.show()"
   ]
  },
  {
   "cell_type": "markdown",
   "metadata": {},
   "source": [
    "<h4>  - Which are the average shipping cost for top 10 different countries?\n"
   ]
  },
  {
   "cell_type": "code",
   "execution_count": 23,
   "metadata": {},
   "outputs": [
    {
     "data": {
      "text/html": [
       "<div>\n",
       "<style scoped>\n",
       "    .dataframe tbody tr th:only-of-type {\n",
       "        vertical-align: middle;\n",
       "    }\n",
       "\n",
       "    .dataframe tbody tr th {\n",
       "        vertical-align: top;\n",
       "    }\n",
       "\n",
       "    .dataframe thead th {\n",
       "        text-align: right;\n",
       "    }\n",
       "</style>\n",
       "<table border=\"1\" class=\"dataframe\">\n",
       "  <thead>\n",
       "    <tr style=\"text-align: right;\">\n",
       "      <th></th>\n",
       "      <th>shipping_cost</th>\n",
       "    </tr>\n",
       "    <tr>\n",
       "      <th>country</th>\n",
       "      <th></th>\n",
       "    </tr>\n",
       "  </thead>\n",
       "  <tbody>\n",
       "    <tr>\n",
       "      <th>Taiwan</th>\n",
       "      <td>155.660714</td>\n",
       "    </tr>\n",
       "    <tr>\n",
       "      <th>Chad</th>\n",
       "      <td>148.970000</td>\n",
       "    </tr>\n",
       "    <tr>\n",
       "      <th>Lesotho</th>\n",
       "      <td>135.650000</td>\n",
       "    </tr>\n",
       "    <tr>\n",
       "      <th>Montenegro</th>\n",
       "      <td>93.937500</td>\n",
       "    </tr>\n",
       "    <tr>\n",
       "      <th>Slovenia</th>\n",
       "      <td>61.220000</td>\n",
       "    </tr>\n",
       "    <tr>\n",
       "      <th>Republic of the Congo</th>\n",
       "      <td>59.303333</td>\n",
       "    </tr>\n",
       "    <tr>\n",
       "      <th>Central African Republic</th>\n",
       "      <td>57.625714</td>\n",
       "    </tr>\n",
       "    <tr>\n",
       "      <th>Namibia</th>\n",
       "      <td>50.370000</td>\n",
       "    </tr>\n",
       "    <tr>\n",
       "      <th>Bangladesh</th>\n",
       "      <td>46.402883</td>\n",
       "    </tr>\n",
       "    <tr>\n",
       "      <th>Estonia</th>\n",
       "      <td>46.070000</td>\n",
       "    </tr>\n",
       "  </tbody>\n",
       "</table>\n",
       "</div>"
      ],
      "text/plain": [
       "                          shipping_cost\n",
       "country                                \n",
       "Taiwan                       155.660714\n",
       "Chad                         148.970000\n",
       "Lesotho                      135.650000\n",
       "Montenegro                    93.937500\n",
       "Slovenia                      61.220000\n",
       "Republic of the Congo         59.303333\n",
       "Central African Republic      57.625714\n",
       "Namibia                       50.370000\n",
       "Bangladesh                    46.402883\n",
       "Estonia                       46.070000"
      ]
     },
     "execution_count": 23,
     "metadata": {},
     "output_type": "execute_result"
    }
   ],
   "source": [
    "df.groupby('country').agg({'shipping_cost':'mean'}).sort_values('shipping_cost', ascending=False).head(10)"
   ]
  },
  {
   "cell_type": "markdown",
   "metadata": {},
   "source": [
    "####  Who are the top-10 most profitable customers?\n"
   ]
  },
  {
   "cell_type": "code",
   "execution_count": 24,
   "metadata": {},
   "outputs": [
    {
     "data": {
      "text/html": [
       "<div>\n",
       "<style scoped>\n",
       "    .dataframe tbody tr th:only-of-type {\n",
       "        vertical-align: middle;\n",
       "    }\n",
       "\n",
       "    .dataframe tbody tr th {\n",
       "        vertical-align: top;\n",
       "    }\n",
       "\n",
       "    .dataframe thead th {\n",
       "        text-align: right;\n",
       "    }\n",
       "</style>\n",
       "<table border=\"1\" class=\"dataframe\">\n",
       "  <thead>\n",
       "    <tr style=\"text-align: right;\">\n",
       "      <th></th>\n",
       "      <th>order_id</th>\n",
       "      <th>customer_name</th>\n",
       "      <th>profit</th>\n",
       "    </tr>\n",
       "  </thead>\n",
       "  <tbody>\n",
       "    <tr>\n",
       "      <th>29530</th>\n",
       "      <td>CA-2013-118689</td>\n",
       "      <td>Tamara Chand</td>\n",
       "      <td>8399.9760</td>\n",
       "    </tr>\n",
       "    <tr>\n",
       "      <th>36239</th>\n",
       "      <td>CA-2014-140151</td>\n",
       "      <td>Raymond Buch</td>\n",
       "      <td>6719.9808</td>\n",
       "    </tr>\n",
       "    <tr>\n",
       "      <th>48097</th>\n",
       "      <td>CA-2014-166709</td>\n",
       "      <td>Hunter Lopez</td>\n",
       "      <td>5039.9856</td>\n",
       "    </tr>\n",
       "    <tr>\n",
       "      <th>33011</th>\n",
       "      <td>CA-2013-117121</td>\n",
       "      <td>Adrian Barton</td>\n",
       "      <td>4946.3700</td>\n",
       "    </tr>\n",
       "    <tr>\n",
       "      <th>5522</th>\n",
       "      <td>CA-2011-116904</td>\n",
       "      <td>Sanjit Chand</td>\n",
       "      <td>4630.4755</td>\n",
       "    </tr>\n",
       "    <tr>\n",
       "      <th>43831</th>\n",
       "      <td>ES-2014-1651774</td>\n",
       "      <td>Patrick Jones</td>\n",
       "      <td>3979.0800</td>\n",
       "    </tr>\n",
       "    <tr>\n",
       "      <th>46525</th>\n",
       "      <td>CA-2014-127180</td>\n",
       "      <td>Tom Ashbrook</td>\n",
       "      <td>3919.9888</td>\n",
       "    </tr>\n",
       "    <tr>\n",
       "      <th>10265</th>\n",
       "      <td>CA-2012-145352</td>\n",
       "      <td>Christopher Martinez</td>\n",
       "      <td>3177.4750</td>\n",
       "    </tr>\n",
       "    <tr>\n",
       "      <th>548</th>\n",
       "      <td>ID-2011-64599</td>\n",
       "      <td>Carol Adams</td>\n",
       "      <td>2939.3100</td>\n",
       "    </tr>\n",
       "    <tr>\n",
       "      <th>24420</th>\n",
       "      <td>IN-2013-50809</td>\n",
       "      <td>Cynthia Arntzen</td>\n",
       "      <td>2817.9900</td>\n",
       "    </tr>\n",
       "  </tbody>\n",
       "</table>\n",
       "</div>"
      ],
      "text/plain": [
       "              order_id         customer_name     profit\n",
       "29530   CA-2013-118689          Tamara Chand  8399.9760\n",
       "36239   CA-2014-140151          Raymond Buch  6719.9808\n",
       "48097   CA-2014-166709          Hunter Lopez  5039.9856\n",
       "33011   CA-2013-117121         Adrian Barton  4946.3700\n",
       "5522    CA-2011-116904          Sanjit Chand  4630.4755\n",
       "43831  ES-2014-1651774         Patrick Jones  3979.0800\n",
       "46525   CA-2014-127180          Tom Ashbrook  3919.9888\n",
       "10265   CA-2012-145352  Christopher Martinez  3177.4750\n",
       "548      ID-2011-64599           Carol Adams  2939.3100\n",
       "24420    IN-2013-50809       Cynthia Arntzen  2817.9900"
      ]
     },
     "execution_count": 24,
     "metadata": {},
     "output_type": "execute_result"
    }
   ],
   "source": [
    "data10 = df.sort_values('profit',ascending=False).head(10)[['order_id','customer_name','profit']]\n",
    "data10"
   ]
  },
  {
   "cell_type": "markdown",
   "metadata": {},
   "source": [
    "####  - Total sales values by year and month "
   ]
  },
  {
   "cell_type": "code",
   "execution_count": 26,
   "metadata": {},
   "outputs": [
    {
     "data": {
      "text/html": [
       "<div>\n",
       "<style scoped>\n",
       "    .dataframe tbody tr th:only-of-type {\n",
       "        vertical-align: middle;\n",
       "    }\n",
       "\n",
       "    .dataframe tbody tr th {\n",
       "        vertical-align: top;\n",
       "    }\n",
       "\n",
       "    .dataframe thead th {\n",
       "        text-align: right;\n",
       "    }\n",
       "</style>\n",
       "<table border=\"1\" class=\"dataframe\">\n",
       "  <thead>\n",
       "    <tr style=\"text-align: right;\">\n",
       "      <th></th>\n",
       "      <th></th>\n",
       "      <th>sales</th>\n",
       "      <th>quantity</th>\n",
       "      <th>discount</th>\n",
       "      <th>profit</th>\n",
       "      <th>shipping_cost</th>\n",
       "    </tr>\n",
       "    <tr>\n",
       "      <th>year</th>\n",
       "      <th>month</th>\n",
       "      <th></th>\n",
       "      <th></th>\n",
       "      <th></th>\n",
       "      <th></th>\n",
       "      <th></th>\n",
       "    </tr>\n",
       "  </thead>\n",
       "  <tbody>\n",
       "    <tr>\n",
       "      <th rowspan=\"12\" valign=\"top\">2011</th>\n",
       "      <th>1</th>\n",
       "      <td>98898.48886</td>\n",
       "      <td>1463</td>\n",
       "      <td>68.758</td>\n",
       "      <td>8321.80096</td>\n",
       "      <td>10544.78800</td>\n",
       "    </tr>\n",
       "    <tr>\n",
       "      <th>2</th>\n",
       "      <td>91152.15698</td>\n",
       "      <td>1224</td>\n",
       "      <td>52.252</td>\n",
       "      <td>12417.90698</td>\n",
       "      <td>10681.16300</td>\n",
       "    </tr>\n",
       "    <tr>\n",
       "      <th>3</th>\n",
       "      <td>145729.36736</td>\n",
       "      <td>1836</td>\n",
       "      <td>74.212</td>\n",
       "      <td>15303.56826</td>\n",
       "      <td>13096.18550</td>\n",
       "    </tr>\n",
       "    <tr>\n",
       "      <th>4</th>\n",
       "      <td>116915.76418</td>\n",
       "      <td>2020</td>\n",
       "      <td>80.782</td>\n",
       "      <td>12902.32438</td>\n",
       "      <td>12954.52000</td>\n",
       "    </tr>\n",
       "    <tr>\n",
       "      <th>5</th>\n",
       "      <td>146747.83610</td>\n",
       "      <td>2013</td>\n",
       "      <td>82.382</td>\n",
       "      <td>12183.82870</td>\n",
       "      <td>16443.20600</td>\n",
       "    </tr>\n",
       "    <tr>\n",
       "      <th>6</th>\n",
       "      <td>215207.38022</td>\n",
       "      <td>3112</td>\n",
       "      <td>159.534</td>\n",
       "      <td>23415.24702</td>\n",
       "      <td>23813.10900</td>\n",
       "    </tr>\n",
       "    <tr>\n",
       "      <th>7</th>\n",
       "      <td>115510.41912</td>\n",
       "      <td>1774</td>\n",
       "      <td>80.086</td>\n",
       "      <td>5585.00352</td>\n",
       "      <td>11844.47600</td>\n",
       "    </tr>\n",
       "    <tr>\n",
       "      <th>8</th>\n",
       "      <td>207581.49122</td>\n",
       "      <td>3035</td>\n",
       "      <td>121.462</td>\n",
       "      <td>23713.66772</td>\n",
       "      <td>22001.13600</td>\n",
       "    </tr>\n",
       "    <tr>\n",
       "      <th>9</th>\n",
       "      <td>290214.45534</td>\n",
       "      <td>3707</td>\n",
       "      <td>137.678</td>\n",
       "      <td>35776.88394</td>\n",
       "      <td>29664.85100</td>\n",
       "    </tr>\n",
       "    <tr>\n",
       "      <th>10</th>\n",
       "      <td>199071.26404</td>\n",
       "      <td>2727</td>\n",
       "      <td>110.192</td>\n",
       "      <td>25963.41834</td>\n",
       "      <td>21380.08200</td>\n",
       "    </tr>\n",
       "    <tr>\n",
       "      <th>11</th>\n",
       "      <td>298496.53752</td>\n",
       "      <td>4039</td>\n",
       "      <td>178.836</td>\n",
       "      <td>32709.17772</td>\n",
       "      <td>34701.99800</td>\n",
       "    </tr>\n",
       "    <tr>\n",
       "      <th>12</th>\n",
       "      <td>333925.73460</td>\n",
       "      <td>4493</td>\n",
       "      <td>187.220</td>\n",
       "      <td>40647.98400</td>\n",
       "      <td>37144.83100</td>\n",
       "    </tr>\n",
       "    <tr>\n",
       "      <th rowspan=\"12\" valign=\"top\">2012</th>\n",
       "      <th>1</th>\n",
       "      <td>135780.72024</td>\n",
       "      <td>1845</td>\n",
       "      <td>74.454</td>\n",
       "      <td>10401.63764</td>\n",
       "      <td>13665.74900</td>\n",
       "    </tr>\n",
       "    <tr>\n",
       "      <th>2</th>\n",
       "      <td>100510.21698</td>\n",
       "      <td>1473</td>\n",
       "      <td>62.784</td>\n",
       "      <td>15000.09618</td>\n",
       "      <td>11393.72600</td>\n",
       "    </tr>\n",
       "    <tr>\n",
       "      <th>3</th>\n",
       "      <td>163076.77116</td>\n",
       "      <td>2237</td>\n",
       "      <td>101.682</td>\n",
       "      <td>17992.91756</td>\n",
       "      <td>16170.78500</td>\n",
       "    </tr>\n",
       "    <tr>\n",
       "      <th>4</th>\n",
       "      <td>161052.26952</td>\n",
       "      <td>2250</td>\n",
       "      <td>93.248</td>\n",
       "      <td>17366.96722</td>\n",
       "      <td>16767.86200</td>\n",
       "    </tr>\n",
       "    <tr>\n",
       "      <th>5</th>\n",
       "      <td>208364.89124</td>\n",
       "      <td>2921</td>\n",
       "      <td>114.272</td>\n",
       "      <td>29876.70374</td>\n",
       "      <td>23801.61700</td>\n",
       "    </tr>\n",
       "    <tr>\n",
       "      <th>6</th>\n",
       "      <td>256175.69842</td>\n",
       "      <td>3671</td>\n",
       "      <td>168.284</td>\n",
       "      <td>34407.15362</td>\n",
       "      <td>28155.90000</td>\n",
       "    </tr>\n",
       "    <tr>\n",
       "      <th>7</th>\n",
       "      <td>145236.78512</td>\n",
       "      <td>2321</td>\n",
       "      <td>104.404</td>\n",
       "      <td>15585.38842</td>\n",
       "      <td>17334.43500</td>\n",
       "    </tr>\n",
       "    <tr>\n",
       "      <th>8</th>\n",
       "      <td>303142.94238</td>\n",
       "      <td>3818</td>\n",
       "      <td>136.166</td>\n",
       "      <td>43573.87858</td>\n",
       "      <td>32038.73000</td>\n",
       "    </tr>\n",
       "    <tr>\n",
       "      <th>9</th>\n",
       "      <td>289389.16564</td>\n",
       "      <td>4205</td>\n",
       "      <td>169.070</td>\n",
       "      <td>27776.18034</td>\n",
       "      <td>28023.17800</td>\n",
       "    </tr>\n",
       "    <tr>\n",
       "      <th>10</th>\n",
       "      <td>252939.85020</td>\n",
       "      <td>3563</td>\n",
       "      <td>135.866</td>\n",
       "      <td>30662.88270</td>\n",
       "      <td>25085.74000</td>\n",
       "    </tr>\n",
       "    <tr>\n",
       "      <th>11</th>\n",
       "      <td>323512.41690</td>\n",
       "      <td>5193</td>\n",
       "      <td>215.868</td>\n",
       "      <td>31820.72180</td>\n",
       "      <td>33489.74100</td>\n",
       "    </tr>\n",
       "    <tr>\n",
       "      <th>12</th>\n",
       "      <td>338256.96660</td>\n",
       "      <td>4614</td>\n",
       "      <td>172.676</td>\n",
       "      <td>32950.75130</td>\n",
       "      <td>37563.36100</td>\n",
       "    </tr>\n",
       "    <tr>\n",
       "      <th rowspan=\"12\" valign=\"top\">2013</th>\n",
       "      <th>1</th>\n",
       "      <td>199185.90738</td>\n",
       "      <td>2413</td>\n",
       "      <td>91.442</td>\n",
       "      <td>26810.55968</td>\n",
       "      <td>21677.43200</td>\n",
       "    </tr>\n",
       "    <tr>\n",
       "      <th>2</th>\n",
       "      <td>167239.65040</td>\n",
       "      <td>2102</td>\n",
       "      <td>78.012</td>\n",
       "      <td>25340.02610</td>\n",
       "      <td>16911.85000</td>\n",
       "    </tr>\n",
       "    <tr>\n",
       "      <th>3</th>\n",
       "      <td>198594.03012</td>\n",
       "      <td>2686</td>\n",
       "      <td>114.384</td>\n",
       "      <td>23433.77462</td>\n",
       "      <td>21268.01000</td>\n",
       "    </tr>\n",
       "    <tr>\n",
       "      <th>4</th>\n",
       "      <td>177821.31684</td>\n",
       "      <td>2688</td>\n",
       "      <td>116.116</td>\n",
       "      <td>19462.03844</td>\n",
       "      <td>19133.23400</td>\n",
       "    </tr>\n",
       "    <tr>\n",
       "      <th>5</th>\n",
       "      <td>260498.56470</td>\n",
       "      <td>3808</td>\n",
       "      <td>153.092</td>\n",
       "      <td>28495.69410</td>\n",
       "      <td>28315.21100</td>\n",
       "    </tr>\n",
       "    <tr>\n",
       "      <th>6</th>\n",
       "      <td>396519.61190</td>\n",
       "      <td>5327</td>\n",
       "      <td>213.642</td>\n",
       "      <td>45478.41340</td>\n",
       "      <td>42814.02600</td>\n",
       "    </tr>\n",
       "    <tr>\n",
       "      <th>7</th>\n",
       "      <td>229928.95200</td>\n",
       "      <td>3252</td>\n",
       "      <td>125.644</td>\n",
       "      <td>28863.82720</td>\n",
       "      <td>24501.84236</td>\n",
       "    </tr>\n",
       "    <tr>\n",
       "      <th>8</th>\n",
       "      <td>326488.78936</td>\n",
       "      <td>4934</td>\n",
       "      <td>202.640</td>\n",
       "      <td>31023.66846</td>\n",
       "      <td>35673.08800</td>\n",
       "    </tr>\n",
       "    <tr>\n",
       "      <th>9</th>\n",
       "      <td>376619.24568</td>\n",
       "      <td>5793</td>\n",
       "      <td>240.674</td>\n",
       "      <td>38905.66778</td>\n",
       "      <td>38488.40000</td>\n",
       "    </tr>\n",
       "    <tr>\n",
       "      <th>10</th>\n",
       "      <td>293406.64288</td>\n",
       "      <td>3883</td>\n",
       "      <td>160.860</td>\n",
       "      <td>42433.22258</td>\n",
       "      <td>31174.68400</td>\n",
       "    </tr>\n",
       "    <tr>\n",
       "      <th>11</th>\n",
       "      <td>373989.36010</td>\n",
       "      <td>5556</td>\n",
       "      <td>215.324</td>\n",
       "      <td>48062.99670</td>\n",
       "      <td>41407.16700</td>\n",
       "    </tr>\n",
       "    <tr>\n",
       "      <th>12</th>\n",
       "      <td>405454.37802</td>\n",
       "      <td>5694</td>\n",
       "      <td>223.692</td>\n",
       "      <td>50202.87112</td>\n",
       "      <td>43183.80000</td>\n",
       "    </tr>\n",
       "    <tr>\n",
       "      <th rowspan=\"12\" valign=\"top\">2014</th>\n",
       "      <th>1</th>\n",
       "      <td>241268.55566</td>\n",
       "      <td>3122</td>\n",
       "      <td>127.928</td>\n",
       "      <td>28001.38626</td>\n",
       "      <td>24870.80100</td>\n",
       "    </tr>\n",
       "    <tr>\n",
       "      <th>2</th>\n",
       "      <td>184837.35556</td>\n",
       "      <td>2482</td>\n",
       "      <td>111.126</td>\n",
       "      <td>19751.69996</td>\n",
       "      <td>19525.80000</td>\n",
       "    </tr>\n",
       "    <tr>\n",
       "      <th>3</th>\n",
       "      <td>263100.77262</td>\n",
       "      <td>3722</td>\n",
       "      <td>142.016</td>\n",
       "      <td>37357.26052</td>\n",
       "      <td>26838.63554</td>\n",
       "    </tr>\n",
       "    <tr>\n",
       "      <th>4</th>\n",
       "      <td>242771.86130</td>\n",
       "      <td>3594</td>\n",
       "      <td>164.000</td>\n",
       "      <td>23782.30120</td>\n",
       "      <td>26272.71800</td>\n",
       "    </tr>\n",
       "    <tr>\n",
       "      <th>5</th>\n",
       "      <td>288401.04614</td>\n",
       "      <td>4300</td>\n",
       "      <td>188.986</td>\n",
       "      <td>33953.55774</td>\n",
       "      <td>31882.58300</td>\n",
       "    </tr>\n",
       "    <tr>\n",
       "      <th>6</th>\n",
       "      <td>401814.06310</td>\n",
       "      <td>6009</td>\n",
       "      <td>251.462</td>\n",
       "      <td>43778.60280</td>\n",
       "      <td>41894.07600</td>\n",
       "    </tr>\n",
       "    <tr>\n",
       "      <th>7</th>\n",
       "      <td>258705.68048</td>\n",
       "      <td>3637</td>\n",
       "      <td>163.512</td>\n",
       "      <td>28035.87258</td>\n",
       "      <td>29581.73300</td>\n",
       "    </tr>\n",
       "    <tr>\n",
       "      <th>8</th>\n",
       "      <td>456619.94236</td>\n",
       "      <td>5824</td>\n",
       "      <td>217.672</td>\n",
       "      <td>53542.89496</td>\n",
       "      <td>46759.35300</td>\n",
       "    </tr>\n",
       "    <tr>\n",
       "      <th>9</th>\n",
       "      <td>481157.24370</td>\n",
       "      <td>6837</td>\n",
       "      <td>272.094</td>\n",
       "      <td>67979.45110</td>\n",
       "      <td>53485.43000</td>\n",
       "    </tr>\n",
       "    <tr>\n",
       "      <th>10</th>\n",
       "      <td>422766.62916</td>\n",
       "      <td>5876</td>\n",
       "      <td>233.752</td>\n",
       "      <td>58209.83476</td>\n",
       "      <td>44622.41400</td>\n",
       "    </tr>\n",
       "    <tr>\n",
       "      <th>11</th>\n",
       "      <td>555279.02700</td>\n",
       "      <td>7706</td>\n",
       "      <td>304.384</td>\n",
       "      <td>62856.58790</td>\n",
       "      <td>59918.35500</td>\n",
       "    </tr>\n",
       "    <tr>\n",
       "      <th>12</th>\n",
       "      <td>503143.69348</td>\n",
       "      <td>7513</td>\n",
       "      <td>335.106</td>\n",
       "      <td>46916.52068</td>\n",
       "      <td>54853.89100</td>\n",
       "    </tr>\n",
       "  </tbody>\n",
       "</table>\n",
       "</div>"
      ],
      "text/plain": [
       "                   sales  quantity  discount       profit  shipping_cost\n",
       "year month                                                              \n",
       "2011 1       98898.48886      1463    68.758   8321.80096    10544.78800\n",
       "     2       91152.15698      1224    52.252  12417.90698    10681.16300\n",
       "     3      145729.36736      1836    74.212  15303.56826    13096.18550\n",
       "     4      116915.76418      2020    80.782  12902.32438    12954.52000\n",
       "     5      146747.83610      2013    82.382  12183.82870    16443.20600\n",
       "     6      215207.38022      3112   159.534  23415.24702    23813.10900\n",
       "     7      115510.41912      1774    80.086   5585.00352    11844.47600\n",
       "     8      207581.49122      3035   121.462  23713.66772    22001.13600\n",
       "     9      290214.45534      3707   137.678  35776.88394    29664.85100\n",
       "     10     199071.26404      2727   110.192  25963.41834    21380.08200\n",
       "     11     298496.53752      4039   178.836  32709.17772    34701.99800\n",
       "     12     333925.73460      4493   187.220  40647.98400    37144.83100\n",
       "2012 1      135780.72024      1845    74.454  10401.63764    13665.74900\n",
       "     2      100510.21698      1473    62.784  15000.09618    11393.72600\n",
       "     3      163076.77116      2237   101.682  17992.91756    16170.78500\n",
       "     4      161052.26952      2250    93.248  17366.96722    16767.86200\n",
       "     5      208364.89124      2921   114.272  29876.70374    23801.61700\n",
       "     6      256175.69842      3671   168.284  34407.15362    28155.90000\n",
       "     7      145236.78512      2321   104.404  15585.38842    17334.43500\n",
       "     8      303142.94238      3818   136.166  43573.87858    32038.73000\n",
       "     9      289389.16564      4205   169.070  27776.18034    28023.17800\n",
       "     10     252939.85020      3563   135.866  30662.88270    25085.74000\n",
       "     11     323512.41690      5193   215.868  31820.72180    33489.74100\n",
       "     12     338256.96660      4614   172.676  32950.75130    37563.36100\n",
       "2013 1      199185.90738      2413    91.442  26810.55968    21677.43200\n",
       "     2      167239.65040      2102    78.012  25340.02610    16911.85000\n",
       "     3      198594.03012      2686   114.384  23433.77462    21268.01000\n",
       "     4      177821.31684      2688   116.116  19462.03844    19133.23400\n",
       "     5      260498.56470      3808   153.092  28495.69410    28315.21100\n",
       "     6      396519.61190      5327   213.642  45478.41340    42814.02600\n",
       "     7      229928.95200      3252   125.644  28863.82720    24501.84236\n",
       "     8      326488.78936      4934   202.640  31023.66846    35673.08800\n",
       "     9      376619.24568      5793   240.674  38905.66778    38488.40000\n",
       "     10     293406.64288      3883   160.860  42433.22258    31174.68400\n",
       "     11     373989.36010      5556   215.324  48062.99670    41407.16700\n",
       "     12     405454.37802      5694   223.692  50202.87112    43183.80000\n",
       "2014 1      241268.55566      3122   127.928  28001.38626    24870.80100\n",
       "     2      184837.35556      2482   111.126  19751.69996    19525.80000\n",
       "     3      263100.77262      3722   142.016  37357.26052    26838.63554\n",
       "     4      242771.86130      3594   164.000  23782.30120    26272.71800\n",
       "     5      288401.04614      4300   188.986  33953.55774    31882.58300\n",
       "     6      401814.06310      6009   251.462  43778.60280    41894.07600\n",
       "     7      258705.68048      3637   163.512  28035.87258    29581.73300\n",
       "     8      456619.94236      5824   217.672  53542.89496    46759.35300\n",
       "     9      481157.24370      6837   272.094  67979.45110    53485.43000\n",
       "     10     422766.62916      5876   233.752  58209.83476    44622.41400\n",
       "     11     555279.02700      7706   304.384  62856.58790    59918.35500\n",
       "     12     503143.69348      7513   335.106  46916.52068    54853.89100"
      ]
     },
     "execution_count": 26,
     "metadata": {},
     "output_type": "execute_result"
    }
   ],
   "source": [
    "date = df.groupby(['year','month']).sum()\n",
    "date"
   ]
  },
  {
   "cell_type": "markdown",
   "metadata": {},
   "source": [
    "#### - Total sales chart by the year "
   ]
  },
  {
   "cell_type": "code",
   "execution_count": 27,
   "metadata": {},
   "outputs": [
    {
     "data": {
      "text/plain": [
       "(array([0, 1, 2, 3]), <a list of 4 Text major ticklabel objects>)"
      ]
     },
     "execution_count": 27,
     "metadata": {},
     "output_type": "execute_result"
    },
    {
     "data": {
      "image/png": "[encoded data removed]",
      "text/plain": [
       "<Figure size 432x288 with 1 Axes>"
      ]
     },
     "metadata": {},
     "output_type": "display_data"
    }
   ],
   "source": [
    "sns.barplot(x='year',y='sales',data=date.reset_index())\n",
    "plt.xticks(rotation = 'vertical')"
   ]
  }
 ],
 "metadata": {
  "kernelspec": {
   "display_name": "Python 3",
   "language": "python",
   "name": "python3"
  },
  "language_info": {
   "codemirror_mode": {
    "name": "ipython",
    "version": 3
   },
   "file_extension": ".py",
   "mimetype": "text/x-python",
   "name": "python",
   "nbconvert_exporter": "python",
   "pygments_lexer": "ipython3",
   "version": "3.12.2"
  },
  "vscode": {
   "interpreter": {
    "hash": "5be760a2605b633649d2da8603858b7deda803b178069d9e0fbf3473c150aafa"
   }
  }
 },
 "nbformat": 4,
 "nbformat_minor": 4
}
